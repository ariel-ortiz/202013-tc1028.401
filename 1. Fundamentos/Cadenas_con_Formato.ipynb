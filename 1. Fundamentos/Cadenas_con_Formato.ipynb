{
  "nbformat": 4,
  "nbformat_minor": 0,
  "metadata": {
    "colab": {
      "name": "Cadenas con Formato.ipynb",
      "provenance": [],
      "collapsed_sections": [],
      "authorship_tag": "ABX9TyO6udkxifYWyMyLzif5wOyw",
      "include_colab_link": true
    },
    "kernelspec": {
      "name": "python3",
      "display_name": "Python 3"
    }
  },
  "cells": [
    {
      "cell_type": "markdown",
      "metadata": {
        "id": "view-in-github",
        "colab_type": "text"
      },
      "source": [
        "<a href=\"https://colab.research.google.com/github/ariel-ortiz/202013-tc1028.401/blob/master/1.%20Fundamentos/Cadenas_con_Formato.ipynb\" target=\"_parent\"><img src=\"https://colab.research.google.com/assets/colab-badge.svg\" alt=\"Open In Colab\"/></a>"
      ]
    },
    {
      "cell_type": "markdown",
      "metadata": {
        "id": "ikRea402Bafo",
        "colab_type": "text"
      },
      "source": [
        "# Cadenas con formato"
      ]
    },
    {
      "cell_type": "code",
      "metadata": {
        "id": "xqOaUHPI-uQc",
        "colab_type": "code",
        "colab": {}
      },
      "source": [
        "def email(nombre: str, dominio: str) -> str:\n",
        "    resultado = f'{nombre}@{dominio}'\n",
        "    return resultado"
      ],
      "execution_count": 1,
      "outputs": []
    },
    {
      "cell_type": "code",
      "metadata": {
        "id": "q9YIVvf-Bust",
        "colab_type": "code",
        "colab": {
          "base_uri": "https://localhost:8080/",
          "height": 36
        },
        "outputId": "3751e8a4-985e-449f-e4a2-d4d5539e48aa"
      },
      "source": [
        "email('pepito', 'example.com')"
      ],
      "execution_count": 2,
      "outputs": [
        {
          "output_type": "execute_result",
          "data": {
            "application/vnd.google.colaboratory.intrinsic+json": {
              "type": "string"
            },
            "text/plain": [
              "'pepito@example.com'"
            ]
          },
          "metadata": {
            "tags": []
          },
          "execution_count": 2
        }
      ]
    },
    {
      "cell_type": "code",
      "metadata": {
        "id": "_hl-8wAOBza7",
        "colab_type": "code",
        "colab": {}
      },
      "source": [
        "def nombre_completo(nombre: str, apellido_paterno: str, apellido_materno) -> str:\n",
        "    resultado = f'{apellido_paterno} {apellido_materno}, {nombre}'\n",
        "    return resultado"
      ],
      "execution_count": 3,
      "outputs": []
    },
    {
      "cell_type": "code",
      "metadata": {
        "id": "gKdjT92eCvPl",
        "colab_type": "code",
        "colab": {
          "base_uri": "https://localhost:8080/",
          "height": 36
        },
        "outputId": "6d6654e2-e3e8-40d2-9a60-b331ae265b09"
      },
      "source": [
        "nombre_completo('Juan', 'Camaney', 'Pérez')"
      ],
      "execution_count": 4,
      "outputs": [
        {
          "output_type": "execute_result",
          "data": {
            "application/vnd.google.colaboratory.intrinsic+json": {
              "type": "string"
            },
            "text/plain": [
              "'Camaney Pérez, Juan'"
            ]
          },
          "metadata": {
            "tags": []
          },
          "execution_count": 4
        }
      ]
    },
    {
      "cell_type": "code",
      "metadata": {
        "id": "8yCrfg4VC1xv",
        "colab_type": "code",
        "colab": {}
      },
      "source": [
        "def sufijo_longitud(frase: str) -> str:\n",
        "    resultado = f'{frase}{len(frase)}'\n",
        "    return resultado"
      ],
      "execution_count": 5,
      "outputs": []
    },
    {
      "cell_type": "code",
      "metadata": {
        "id": "mSop72zmDlgc",
        "colab_type": "code",
        "colab": {
          "base_uri": "https://localhost:8080/",
          "height": 36
        },
        "outputId": "f6eb771f-cb94-440f-a620-af63a73ada37"
      },
      "source": [
        "sufijo_longitud('unElafante')"
      ],
      "execution_count": 6,
      "outputs": [
        {
          "output_type": "execute_result",
          "data": {
            "application/vnd.google.colaboratory.intrinsic+json": {
              "type": "string"
            },
            "text/plain": [
              "'unElafante10'"
            ]
          },
          "metadata": {
            "tags": []
          },
          "execution_count": 6
        }
      ]
    },
    {
      "cell_type": "code",
      "metadata": {
        "id": "MJtBtiiqDs46",
        "colab_type": "code",
        "colab": {
          "base_uri": "https://localhost:8080/",
          "height": 36
        },
        "outputId": "be571c4d-67f4-47ac-ccc7-efd2e111494d"
      },
      "source": [
        "f'{2*3:10}'"
      ],
      "execution_count": 7,
      "outputs": [
        {
          "output_type": "execute_result",
          "data": {
            "application/vnd.google.colaboratory.intrinsic+json": {
              "type": "string"
            },
            "text/plain": [
              "'         6'"
            ]
          },
          "metadata": {
            "tags": []
          },
          "execution_count": 7
        }
      ]
    },
    {
      "cell_type": "code",
      "metadata": {
        "id": "LAsujzIKEOqe",
        "colab_type": "code",
        "colab": {
          "base_uri": "https://localhost:8080/",
          "height": 36
        },
        "outputId": "c72f239f-c36d-45fd-8b2e-4024a6dc6e94"
      },
      "source": [
        "x = 'Hola'\n",
        "f'{x:^10}'"
      ],
      "execution_count": 8,
      "outputs": [
        {
          "output_type": "execute_result",
          "data": {
            "application/vnd.google.colaboratory.intrinsic+json": {
              "type": "string"
            },
            "text/plain": [
              "'   Hola   '"
            ]
          },
          "metadata": {
            "tags": []
          },
          "execution_count": 8
        }
      ]
    },
    {
      "cell_type": "code",
      "metadata": {
        "id": "S0dVJznQEjI0",
        "colab_type": "code",
        "colab": {
          "base_uri": "https://localhost:8080/",
          "height": 52
        },
        "outputId": "77a7c6b4-e249-4deb-fe39-e0e52a31c96d"
      },
      "source": [
        "titulo = 'Tec de Monterrey'\n",
        "nombre = 'Ariel Ortiz'\n",
        "print(f'{titulo:*^50}')\n",
        "print(f'{nombre:~^50}')"
      ],
      "execution_count": 9,
      "outputs": [
        {
          "output_type": "stream",
          "text": [
            "*****************Tec de Monterrey*****************\n",
            "~~~~~~~~~~~~~~~~~~~Ariel Ortiz~~~~~~~~~~~~~~~~~~~~\n"
          ],
          "name": "stdout"
        }
      ]
    },
    {
      "cell_type": "code",
      "metadata": {
        "id": "-oeSXwV-FgOn",
        "colab_type": "code",
        "colab": {
          "base_uri": "https://localhost:8080/",
          "height": 34
        },
        "outputId": "e56300a7-5f73-41cf-fd87-79980a0aa360"
      },
      "source": [
        "x = 12341234\n",
        "print(f'{x:,}')"
      ],
      "execution_count": 10,
      "outputs": [
        {
          "output_type": "stream",
          "text": [
            "12,341,234\n"
          ],
          "name": "stdout"
        }
      ]
    },
    {
      "cell_type": "code",
      "metadata": {
        "id": "xpvQMldsG138",
        "colab_type": "code",
        "colab": {
          "base_uri": "https://localhost:8080/",
          "height": 52
        },
        "outputId": "31cbea0d-32f1-493b-bf49-5145cf13ae50"
      },
      "source": [
        "money = 12345.1294\n",
        "print(f'{money:,.2f}')\n",
        "print(f'{money:.5e}')"
      ],
      "execution_count": 11,
      "outputs": [
        {
          "output_type": "stream",
          "text": [
            "12,345.13\n",
            "1.23451e+04\n"
          ],
          "name": "stdout"
        }
      ]
    },
    {
      "cell_type": "markdown",
      "metadata": {
        "id": "y1lsJOVyIZUE",
        "colab_type": "text"
      },
      "source": [
        "El número anterior en formato $\\LaTeX$ se escribe así:\n",
        "$$\n",
        "1.2345 \\times 10 ^ {4}\n",
        "$$"
      ]
    },
    {
      "cell_type": "code",
      "metadata": {
        "id": "sLF5AXORHiMo",
        "colab_type": "code",
        "colab": {
          "base_uri": "https://localhost:8080/",
          "height": 34
        },
        "outputId": "0c1cfd2a-dd9c-49a1-85e6-abe53ff64b7f"
      },
      "source": [
        "n = 5\n",
        "print(f'{n:0>10}')"
      ],
      "execution_count": 12,
      "outputs": [
        {
          "output_type": "stream",
          "text": [
            "0000000005\n"
          ],
          "name": "stdout"
        }
      ]
    },
    {
      "cell_type": "code",
      "metadata": {
        "id": "kNrIBKODJXLM",
        "colab_type": "code",
        "colab": {}
      },
      "source": [
        ""
      ],
      "execution_count": 12,
      "outputs": []
    }
  ]
}