{
  "nbformat": 4,
  "nbformat_minor": 0,
  "metadata": {
    "colab": {
      "name": "problemario12.ipynb",
      "provenance": [],
      "collapsed_sections": [],
      "include_colab_link": true
    },
    "kernelspec": {
      "name": "python3",
      "display_name": "Python 3"
    }
  },
  "cells": [
    {
      "cell_type": "markdown",
      "metadata": {
        "id": "view-in-github",
        "colab_type": "text"
      },
      "source": [
        "<a href=\"https://colab.research.google.com/github/ariel-ortiz/202013-tc1028.401/blob/master/4.%20Ciclos/problemario12.ipynb\" target=\"_parent\"><img src=\"https://colab.research.google.com/assets/colab-badge.svg\" alt=\"Open In Colab\"/></a>"
      ]
    },
    {
      "cell_type": "markdown",
      "metadata": {
        "id": "meqri0zQMo4u"
      },
      "source": [
        "# Problemario 12: Ciclos Parte 2\n",
        "\n",
        "## Tc1028.401 Pensamiento computacional para ingeniería\n",
        "\n",
        "29 de septiembre, 2020.\n",
        "\n",
        "*Autores de la solución de este notebook:*\n",
        "* Matrícula:  Nombre:\n",
        "* Matrícula:  Nombre:\n",
        "---\n",
        "\n",
        "**Instrucciones:** Trabajando en las parejas designadas por el profesor, escribe las funciones solicitadas usando el lenguaje de programación Python. Ejecuta las celdas con las pruebas para verifica que estén correctas."
      ]
    },
    {
      "cell_type": "markdown",
      "metadata": {
        "id": "2s-rmoXl9xtf"
      },
      "source": [
        "---\n",
        "\n",
        "## Problema 1\n",
        "\n",
        "Como futuro atleta, acabas de comenzar a entrenar para un evento próximo. El primer día corres $x$ kilómetros, y el día del evento debes poder correr $y$ kilómetros.\n",
        "\n",
        "Escribe una función `corredor` que, a partir de los valores de $x$ y $y$, calcule el número de días necesarios para que finalmente alcances la distancia requerida para el evento si cada día incrementas tu distancia en un 10% con respecto al día anterior.\n",
        "\n",
        "Ejemplos:\n",
        "\n",
        "    >>> corredor(10, 12)\n",
        "    3\n",
        "\n",
        "    >>> corredor(10, 30)\n",
        "    13"
      ]
    },
    {
      "cell_type": "code",
      "metadata": {
        "id": "LXa-OWbP9xtj"
      },
      "source": [
        "def corredor(x: int, y: int) -> int:\n",
        "    dias = 1\n",
        "    while x < y:\n",
        "        dias += 1\n",
        "        x *= 1.1\n",
        "    return dias"
      ],
      "execution_count": 1,
      "outputs": []
    },
    {
      "cell_type": "code",
      "metadata": {
        "cellView": "form",
        "id": "QE15VkTR9xtx",
        "outputId": "ebfd9554-38fc-43e9-852e-59e3c885f0e6",
        "colab": {
          "base_uri": "https://localhost:8080/",
          "height": 35
        }
      },
      "source": [
        "#@title » Correr pruebas\n",
        "\n",
        "assert 3 == corredor(10, 12)\n",
        "assert 13 == corredor(10, 30)\n",
        "assert 9 == corredor(10, 20)\n",
        "assert 26 == corredor(10, 100)\n",
        "assert 1 == corredor(10, 10)\n",
        "assert 2 == corredor(100, 101)\n",
        "assert 1 == corredor(100, 99)\n",
        "assert 74 == corredor(1, 1000)\n",
        "assert 3 == corredor(100, 121)\n",
        "print('OK')"
      ],
      "execution_count": 2,
      "outputs": [
        {
          "output_type": "stream",
          "text": [
            "OK\n"
          ],
          "name": "stdout"
        }
      ]
    },
    {
      "cell_type": "markdown",
      "metadata": {
        "id": "ayHNeRN94iP2"
      },
      "source": [
        "---\n",
        "\n",
        "## Problema 2\n",
        "\n",
        "Escribe la función `lista_cuadrados` que recibe como entrada un entero `n` mayor o igual a cero. Devuelve una lista en orden ascendente con todos los cuadrados de los enteros positivos en donde el último cuadrado es menor o igual a `n` \n",
        "\n",
        "Ejemplo:\n",
        "\n",
        "    >>> lista_cuadrados(50)\n",
        "    [1, 4, 9, 16, 25, 36, 49]"
      ]
    },
    {
      "cell_type": "code",
      "metadata": {
        "id": "a0I3cN5h4iP7"
      },
      "source": [
        "from typing import List\n",
        "\n",
        "def lista_cuadrados(n: int) -> List[int]:\n",
        "    i = 1\n",
        "    resultado = []\n",
        "    while i ** 2 <= n:\n",
        "        resultado.append(i ** 2)\n",
        "        i += 1\n",
        "    return resultado"
      ],
      "execution_count": 3,
      "outputs": []
    },
    {
      "cell_type": "code",
      "metadata": {
        "cellView": "form",
        "id": "4cnvTL5p4iQG",
        "outputId": "9207bbc8-b6fe-4453-ef58-8814cf6a66cd",
        "colab": {
          "base_uri": "https://localhost:8080/",
          "height": 35
        }
      },
      "source": [
        "#@title » Correr pruebas\n",
        "\n",
        "assert [1, 4, 9, 16, 25, 36, 49] == lista_cuadrados(50)\n",
        "assert [] == lista_cuadrados(0)\n",
        "assert [1] == lista_cuadrados(1)\n",
        "assert [1, 4, 9, 16, 25, 36, 49, 64, 81, 100, 121, 144, 169,\n",
        "        196, 225, 256, 289, 324, 361, 400, 441, 484] == lista_cuadrados(500)\n",
        "assert [1, 4, 9, 16, 25, 36, 49, 64, 81, 100, 121, 144, 169, 196, 225, \n",
        "        256, 289, 324, 361, 400, 441, 484, 529, 576, 625, 676, 729, 784, \n",
        "        841, 900, 961] == lista_cuadrados(1000)\n",
        "assert [1, 4, 9, 16, 25, 36, 49, 64, 81, 100, 121, 144, 169, 196, 225, 256, 289,\n",
        "        324, 361, 400, 441, 484, 529, 576, 625, 676, 729, 784, 841, 900, 961, \n",
        "        1024, 1089, 1156, 1225, 1296, 1369, 1444, 1521, 1600, 1681, 1764, 1849, \n",
        "        1936, 2025, 2116, 2209, 2304, 2401, 2500, 2601, 2704, 2809, 2916, 3025, \n",
        "        3136, 3249, 3364, 3481, 3600, 3721, 3844, 3969, 4096, 4225, 4356, 4489, \n",
        "        4624, 4761, 4900, 5041, 5184, 5329, 5476, 5625, 5776, 5929, 6084, 6241, \n",
        "        6400, 6561, 6724, 6889, 7056, 7225, 7396, 7569, 7744, 7921, 8100, 8281, \n",
        "        8464, 8649, 8836, 9025, 9216, 9409, 9604, 9801, 10000] == lista_cuadrados(10000)\n",
        "print('OK')"
      ],
      "execution_count": 4,
      "outputs": [
        {
          "output_type": "stream",
          "text": [
            "OK\n"
          ],
          "name": "stdout"
        }
      ]
    },
    {
      "cell_type": "markdown",
      "metadata": {
        "id": "VB_t5Ox2bE1E"
      },
      "source": [
        "---\n",
        "\n",
        "## Problema 3\n",
        "\n",
        "Escribe la función `potencia_de_2_menor_o_igual` que recibe como entrada un entero `x` mayor a cero. La función busca el entero más grande `n` tal que $2^n$ es menor o igual `x`. Devuelve una lista de la forma: $[n, 2^n]$.\n",
        "\n",
        "Ejemplos:\n",
        "\n",
        "    >>> potencia_de_2_menor_o_igual(50)\n",
        "    [5, 32]\n",
        "\n",
        "    >>> potencia_de_2_menor_o_igual(128)\n",
        "    [7, 128]"
      ]
    },
    {
      "cell_type": "code",
      "metadata": {
        "id": "_o2UMrXsbE1Z"
      },
      "source": [
        "from typing import List\n",
        "\n",
        "def potencia_de_2_menor_o_igual(n: int) -> List[int]:\n",
        "    # escribe aquí tu código\n",
        "    return []"
      ],
      "execution_count": null,
      "outputs": []
    },
    {
      "cell_type": "code",
      "metadata": {
        "cellView": "form",
        "id": "NHA5hHNebE1y"
      },
      "source": [
        "#@title » Correr pruebas\n",
        "\n",
        "assert [5, 32] == potencia_de_2_menor_o_igual(50)\n",
        "assert [7, 128] == potencia_de_2_menor_o_igual(128)\n",
        "assert [0, 1] == potencia_de_2_menor_o_igual(1)\n",
        "assert [9, 512] == potencia_de_2_menor_o_igual(512)\n",
        "assert [9, 512] == potencia_de_2_menor_o_igual(1000)\n",
        "assert [99, 633825300114114700748351602688] == potencia_de_2_menor_o_igual(1267650600228229401496703205375)\n",
        "print('OK')"
      ],
      "execution_count": null,
      "outputs": []
    },
    {
      "cell_type": "markdown",
      "metadata": {
        "id": "-Ie_ZFUiEKl1"
      },
      "source": [
        "---\n",
        "\n",
        "## Problema 4\n",
        "\n",
        "Escribe la función `digitos` que recibe como argumento un número entero positivo `n`. Devuelve una lista conformada por cada uno de los dígitos de `n`.\n",
        "\n",
        "**TIP**: Conviene dividir entre 10 (usando la división de piso y el operador de residuo) para ir obteniendo los dígitos de `n`.\n",
        "\n",
        "Ejemplos:\n",
        "\n",
        "    >>> digitos(1729)\n",
        "    [1, 7, 2, 9]\n",
        "\n",
        "    >>> digitos(0)\n",
        "    [0]"
      ]
    },
    {
      "cell_type": "code",
      "metadata": {
        "id": "6kDdICaMFRDq"
      },
      "source": [
        "from typing import List\n",
        "\n",
        "def digitos(n: int) -> List[int]:\n",
        "    # escribe aquí tu código\n",
        "    return []"
      ],
      "execution_count": null,
      "outputs": []
    },
    {
      "cell_type": "code",
      "metadata": {
        "cellView": "form",
        "id": "NHs2B30QFRD2"
      },
      "source": [
        "#@title » Correr pruebas\n",
        "\n",
        "assert [1, 7, 2, 9] == digitos(1729)\n",
        "assert [7] == digitos(7)\n",
        "assert [0] == digitos(0)\n",
        "assert [4, 2] == digitos(42)\n",
        "assert [9, 9, 9] == digitos(999)\n",
        "assert [1, 0, 0, 0, 0] == digitos(10000)\n",
        "assert [1, 2, 3, 4, 5, 6, 7, 8, 9, 0] == digitos(1234567890)\n",
        "print('OK')"
      ],
      "execution_count": null,
      "outputs": []
    },
    {
      "cell_type": "markdown",
      "metadata": {
        "id": "sW4rN6etk1Yw"
      },
      "source": [
        "---\n",
        "\n",
        "## Problema 5\n",
        "\n",
        "Escribe la función `periodos` que recibe como entrada tres valores numéricos positivos: `inicial`, `objetivo` e `interes`. Devuelve el número de periodos de inversión necesarios para que el saldo `inicial` crezca a un monto que sea igual o superior al saldo `objetivo` dada la tasa de `interes` (5% debe especificarse como 0.05).\n",
        "\n",
        "Por ejemplo, `periodos(200, 250, 0.05)` devuelve 5, porque ese es el número de periodos que tomará para llegar a 250 (o más) comenzando con 200 con una tasa de interés del 5%, como se puede observar en la siguiente tabla:\n",
        "\n",
        "| # de periodo | saldo       |\n",
        "|:------------:|:-----------:|\n",
        "| 0            | 200         |\n",
        "| 1            | 210         |\n",
        "| 2            | 220.5       |\n",
        "| 3            | 231.525     |\n",
        "| 4            | 243.10125   |\n",
        "| 5            | 255.2563125 |\n",
        "\n",
        "Ejemplo:\n",
        "\n",
        "    >>> periodos(200, 250, 0.05)\n",
        "    5"
      ]
    },
    {
      "cell_type": "code",
      "metadata": {
        "id": "Z6dajOPrk1ZG"
      },
      "source": [
        "def periodos(inicial: float, objetivo: float, interes: float) -> float:\n",
        "    # escribe aquí tu código\n",
        "    return 0"
      ],
      "execution_count": null,
      "outputs": []
    },
    {
      "cell_type": "code",
      "metadata": {
        "cellView": "form",
        "id": "RjmbA68-k1Zd"
      },
      "source": [
        "#@title » Correr pruebas\n",
        "\n",
        "assert 5 == periodos(200, 250, 0.05)\n",
        "assert 0 == periodos(15000, 14000, 0.07)\n",
        "assert 0 == periodos(15000, 15000, 0.07)\n",
        "assert 15 == periodos(15000, 30000, 0.05)\n",
        "assert 11 == periodos(15000, 30000, 0.07)\n",
        "assert 1 == periodos(15000, 30000, 1.00)\n",
        "print('OK')"
      ],
      "execution_count": null,
      "outputs": []
    },
    {
      "cell_type": "markdown",
      "metadata": {
        "id": "DBK-uIaGpipF"
      },
      "source": [
        "---\n",
        "\n",
        "## Problema 6\n",
        "\n",
        "Escribe la función `reduce` que recibe como entrada un número entero positivo `n`. Devuelve la reducción a un solo dígito de `n`. La reducción consiste en sumar todos los dígitos individuales de `n` y repetir este proceso hasta obtener un número de un solo dígito. Por ejemplo, la reducción de 897 consiste primero en sumar 8 + 9 + 7 = 24; dado que 24 no es un número de un solo dígito, el proceso debe repetirse: 2 + 4 = 6; dado que 6 es un número de un solo dígito, ese es el resultado que debe devolver la función.\n",
        "\n",
        "Ejemplo:\n",
        "\n",
        "    >>> reduce(897)\n",
        "    6"
      ]
    },
    {
      "cell_type": "code",
      "metadata": {
        "id": "w9Y5403upipc"
      },
      "source": [
        "def reduce(n: int) -> int:\n",
        "    # escribe aquí tu código\n",
        "    return 0"
      ],
      "execution_count": null,
      "outputs": []
    },
    {
      "cell_type": "code",
      "metadata": {
        "cellView": "form",
        "id": "deBCpELepipz"
      },
      "source": [
        "#@title » Correr pruebas\n",
        "\n",
        "assert 6 == reduce(897)\n",
        "assert 1 == reduce(10000)\n",
        "assert 5 == reduce(11111)\n",
        "assert 1 == reduce(22222)\n",
        "assert 5 == reduce(5)\n",
        "assert 4 == reduce(24601)\n",
        "assert 1 == reduce(1729)\n",
        "assert 9 == reduce(108)\n",
        "assert 9 == reduce(99999999999999999999999)\n",
        "assert 9 == reduce(123456789123456789123456789123456789)\n",
        "print('OK')"
      ],
      "execution_count": null,
      "outputs": []
    }
  ]
}