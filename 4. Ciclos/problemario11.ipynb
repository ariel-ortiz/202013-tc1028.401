{
  "nbformat": 4,
  "nbformat_minor": 0,
  "metadata": {
    "colab": {
      "name": "problemario11.ipynb",
      "provenance": [],
      "collapsed_sections": [],
      "include_colab_link": true
    },
    "kernelspec": {
      "name": "python3",
      "display_name": "Python 3"
    }
  },
  "cells": [
    {
      "cell_type": "markdown",
      "metadata": {
        "id": "view-in-github",
        "colab_type": "text"
      },
      "source": [
        "<a href=\"https://colab.research.google.com/github/ariel-ortiz/202013-tc1028.401/blob/master/4.%20Ciclos/problemario11.ipynb\" target=\"_parent\"><img src=\"https://colab.research.google.com/assets/colab-badge.svg\" alt=\"Open In Colab\"/></a>"
      ]
    },
    {
      "cell_type": "markdown",
      "metadata": {
        "id": "meqri0zQMo4u",
        "colab_type": "text"
      },
      "source": [
        "# Problemario 11: Ciclos Parte 1\n",
        "\n",
        "## Tc1028.401 Pensamiento computacional para ingeniería\n",
        "\n",
        "25 de septiembre, 2020.\n",
        "\n",
        "*Autores de la solución de este notebook:*\n",
        "* Matrícula:  Nombre:\n",
        "* Matrícula:  Nombre:\n",
        "---\n",
        "\n",
        "**Instrucciones:** Trabajando en las parejas designadas por el profesor, escribe las funciones solicitadas usando el lenguaje de programación Python. Ejecuta las celdas con las pruebas para verifica que estén correctas."
      ]
    },
    {
      "cell_type": "markdown",
      "metadata": {
        "colab_type": "text",
        "id": "VB_t5Ox2bE1E"
      },
      "source": [
        "---\n",
        "\n",
        "## Problema 1\n",
        "\n",
        "El problema de _Basilea_ consiste en encontrar la suma exacta de los inversos de los cuadrados de los enteros positivos, esto es: \n",
        "\n",
        "$$\n",
        "\\sum_{k=1}^{n}\\frac{1}{k^2}=\\frac{1}{1^2}+\\frac{1}{2^2}+\\frac{1}{3^2}+\\cdots+\\frac{1}{n^2}\n",
        "$$\n",
        "\n",
        "Escribe la función `basilea` que recibe como entrada un entero positivo `n` mayor a cero. Devuelve la solución al problema de _Basilea_ usando la fórmula de arriba. \n",
        "\n",
        "Ejemplos:\n",
        "\n",
        "    >>> basilea(1)\n",
        "    1.0\n",
        "\n",
        "    >>> basilea(10)\n",
        "    1.5497677311665408"
      ]
    },
    {
      "cell_type": "code",
      "metadata": {
        "colab_type": "code",
        "id": "_o2UMrXsbE1Z",
        "colab": {}
      },
      "source": [
        "def basilea(n: int) -> float:\n",
        "    suma = 0\n",
        "    for k in range(1, n + 1):\n",
        "        suma += 1 / (k ** 2)\n",
        "    return suma"
      ],
      "execution_count": 1,
      "outputs": []
    },
    {
      "cell_type": "code",
      "metadata": {
        "colab_type": "code",
        "cellView": "form",
        "id": "NHA5hHNebE1y",
        "colab": {
          "base_uri": "https://localhost:8080/",
          "height": 35
        },
        "outputId": "d30fb275-7c4b-4179-f561-f47932ea5ef6"
      },
      "source": [
        "#@title » Correr pruebas\n",
        "\n",
        "assert 1.0 == basilea(1)\n",
        "assert 1.25 == basilea(2)\n",
        "assert 1.4636111111111112 == basilea(5)\n",
        "assert 1.5497677311665408 == basilea(10)\n",
        "assert 1.6439345666815615 == basilea(1000)\n",
        "assert 1.64493306684877 == basilea(1000000)\n",
        "print('OK')"
      ],
      "execution_count": 2,
      "outputs": [
        {
          "output_type": "stream",
          "text": [
            "OK\n"
          ],
          "name": "stdout"
        }
      ]
    },
    {
      "cell_type": "markdown",
      "metadata": {
        "colab_type": "text",
        "id": "VntR0frKItgf"
      },
      "source": [
        "---\n",
        "\n",
        "## Problema 2\n",
        "\n",
        "Escribe la función `sin_vocales` que recibe como entrada una cadena de caracteres `frase`. Devuelve una nueva cadena que contiene exactamente los mismos caracteres contenidos en `frase` pero sin vocales. Puedes suponer que las vocales no están acentuadas (no tienen tilde), pero sí pueden venir en mayúsculas y/o minúsculas. \n",
        "\n",
        "Ejemplo:\n",
        "\n",
        "    >>> sin_vocales('Esta es una pequeña prueba.')\n",
        "    'st s n pqñ prb.'"
      ]
    },
    {
      "cell_type": "code",
      "metadata": {
        "colab_type": "code",
        "id": "Hpz6lfe2Itgz",
        "colab": {}
      },
      "source": [
        "from typing import List\n",
        "\n",
        "def sin_vocales(frase: str) -> str:\n",
        "    # escribe aquí tu código\n",
        "    resultado = ''\n",
        "    for caracter in frase:\n",
        "        if caracter.upper() not in 'AEIOU':\n",
        "            resultado += caracter\n",
        "    return resultado"
      ],
      "execution_count": 3,
      "outputs": []
    },
    {
      "cell_type": "code",
      "metadata": {
        "colab_type": "code",
        "cellView": "form",
        "id": "z_eI7yiBIthP",
        "colab": {
          "base_uri": "https://localhost:8080/",
          "height": 35
        },
        "outputId": "dfcb2c26-1c99-4519-8420-4d2107a7ca61"
      },
      "source": [
        "#@title » Correr pruebas\n",
        "\n",
        "assert '¡Hl!' == sin_vocales('¡Hola!')\n",
        "assert '<>' == sin_vocales('<AEIOUaeiou>')\n",
        "assert 'st s n pqñ prb.' == sin_vocales('Esta es una pequeña prueba.')\n",
        "assert 'MP-LMP' == sin_vocales('UMPA-LUMPA')\n",
        "print('OK')"
      ],
      "execution_count": 4,
      "outputs": [
        {
          "output_type": "stream",
          "text": [
            "OK\n"
          ],
          "name": "stdout"
        }
      ]
    },
    {
      "cell_type": "markdown",
      "metadata": {
        "colab_type": "text",
        "id": "ApwKRwjo_Ome"
      },
      "source": [
        "---\n",
        "\n",
        "## Problema 3\n",
        "\n",
        "Escribe la función `potencias_de_2` que recibe como entrada un número entero positivo `n` mayor o igual a cero. Devuelve una lista con las primeras $n+1$ potencias de 2, es decir: $[2^0, 2^1, 2^2, \\ldots, 2^{n}]$.\n",
        "\n",
        "Ejemplos:\n",
        "\n",
        "    >>> potencias_de_2(5)\n",
        "    [1, 2, 4, 8, 16, 32]\n",
        "\n",
        "    >>> potencias_de_2(0)\n",
        "    [1]"
      ]
    },
    {
      "cell_type": "code",
      "metadata": {
        "colab_type": "code",
        "id": "lDwt1qBw_Om0",
        "colab": {}
      },
      "source": [
        "from typing import List\n",
        "\n",
        "def potencias_de_2(n: int) -> List[int]:\n",
        "    resultado = []\n",
        "    for i in range(0, n + 1):\n",
        "        resultado.append(2 ** i)\n",
        "    return resultado"
      ],
      "execution_count": 5,
      "outputs": []
    },
    {
      "cell_type": "code",
      "metadata": {
        "colab_type": "code",
        "cellView": "form",
        "id": "Wy1fcVUV_OnN",
        "colab": {
          "base_uri": "https://localhost:8080/",
          "height": 35
        },
        "outputId": "572a1c13-b870-4062-f6a4-7727d3b7c2ee"
      },
      "source": [
        "#@title » Correr pruebas\n",
        "\n",
        "assert [1] == potencias_de_2(0)\n",
        "assert [1, 2] == potencias_de_2(1)\n",
        "assert [1, 2, 4, 8, 16, 32] == potencias_de_2(5)\n",
        "assert [1, 2, 4, 8, 16, 32, 64, 128, 256, 512, 1024] == potencias_de_2(10)\n",
        "assert [1,\n",
        "        2,\n",
        "        4,\n",
        "        8,\n",
        "        16,\n",
        "        32,\n",
        "        64,\n",
        "        128,\n",
        "        256,\n",
        "        512,\n",
        "        1024,\n",
        "        2048,\n",
        "        4096,\n",
        "        8192,\n",
        "        16384,\n",
        "        32768,\n",
        "        65536,\n",
        "        131072,\n",
        "        262144,\n",
        "        524288,\n",
        "        1048576,\n",
        "        2097152,\n",
        "        4194304,\n",
        "        8388608,\n",
        "        16777216,\n",
        "        33554432,\n",
        "        67108864,\n",
        "        134217728,\n",
        "        268435456,\n",
        "        536870912,\n",
        "        1073741824,\n",
        "        2147483648,\n",
        "        4294967296,\n",
        "        8589934592,\n",
        "        17179869184,\n",
        "        34359738368,\n",
        "        68719476736,\n",
        "        137438953472,\n",
        "        274877906944,\n",
        "        549755813888,\n",
        "        1099511627776,\n",
        "        2199023255552,\n",
        "        4398046511104,\n",
        "        8796093022208,\n",
        "        17592186044416,\n",
        "        35184372088832,\n",
        "        70368744177664,\n",
        "        140737488355328,\n",
        "        281474976710656,\n",
        "        562949953421312,\n",
        "        1125899906842624] == potencias_de_2(50)\n",
        "print('OK')"
      ],
      "execution_count": 6,
      "outputs": [
        {
          "output_type": "stream",
          "text": [
            "OK\n"
          ],
          "name": "stdout"
        }
      ]
    },
    {
      "cell_type": "markdown",
      "metadata": {
        "colab_type": "text",
        "id": "H9wdZZKN9Snq"
      },
      "source": [
        "---\n",
        "\n",
        "## Problema 4\n",
        "\n",
        "Escribe la función `factorial` que recibe como entrada un número entero positivo `n` mayor a cero. Devuelve el factorial de $n$, es decir, el producto de todos los números enteros positivos desde 1 hasta $n$:\n",
        "\n",
        "$$\n",
        "\\prod_{i=1}^{n}i=1 \\times 2\\times 3 \\cdots \\times n\n",
        "$$\n",
        "\n",
        "Ejemplo:\n",
        "\n",
        "    >>> factorial(5)\n",
        "    120"
      ]
    },
    {
      "cell_type": "code",
      "metadata": {
        "colab_type": "code",
        "id": "WHqaD4bX9Sn8",
        "colab": {}
      },
      "source": [
        "def factorial(n: int) -> int:\n",
        "    # escribe aquí tu código\n",
        "    return 0 "
      ],
      "execution_count": null,
      "outputs": []
    },
    {
      "cell_type": "code",
      "metadata": {
        "colab_type": "code",
        "cellView": "form",
        "id": "56XCpDba9SoW",
        "colab": {}
      },
      "source": [
        "#@title » Correr pruebas\n",
        "\n",
        "assert 1 == factorial(1)\n",
        "assert 2 == factorial(2)\n",
        "assert 6 == factorial(3)\n",
        "assert 120 == factorial(5)\n",
        "assert 3628800 == factorial(10)\n",
        "assert 2432902008176640000 == factorial(20)\n",
        "assert 265252859812191058636308480000000 == factorial(30)\n",
        "assert 815915283247897734345611269596115894272000000000 == factorial(40)\n",
        "print('OK')"
      ],
      "execution_count": null,
      "outputs": []
    },
    {
      "cell_type": "markdown",
      "metadata": {
        "colab_type": "text",
        "id": "Z9KvfGNnC7DT"
      },
      "source": [
        "---\n",
        "\n",
        "## Problema 5\n",
        "\n",
        "La fórmula de Leibniz para calcular un valor aproximado de $\\pi$, a partir de un valor de $n \\ge 0$, es la siguiente: \n",
        "\n",
        "$$\n",
        "\\pi \\approx\n",
        "4 \\left ( \\sum_{i=0}^{n}\\frac{(-1)^i}{2i+1}  \\right ) =\n",
        "4 \\left (  1 - \\frac{1}{3} + \\frac{1}{5} - \\frac{1}{7} + \\cdots + \\frac{(-1)^n}{2n+1} \\right )\n",
        "$$\n",
        "\n",
        "La aproximación de $\\pi$ es mejor entre más grande sea el valor de $n$.\n",
        "\n",
        "Escribe la función `leibniz_pi` que recibe como entrada un entero positivo `n` mayor o igual a cero. Deveuelve una aproximación de $\\pi$ usando la fórmula anterior. \n",
        "\n",
        "Ejemplos:\n",
        "\n",
        "    >>> leibniz_pi(0)\n",
        "    4.0\n",
        "\n",
        "    >>> leibniz_pi(100000)\n",
        "    3.1416026534897203"
      ]
    },
    {
      "cell_type": "code",
      "metadata": {
        "colab_type": "code",
        "id": "dDdbUMt6C9Cs",
        "colab": {}
      },
      "source": [
        "def leibniz_pi(n: int) -> float:\n",
        "    # escribe aquí tu código\n",
        "    return 0.0"
      ],
      "execution_count": null,
      "outputs": []
    },
    {
      "cell_type": "code",
      "metadata": {
        "colab_type": "code",
        "cellView": "form",
        "id": "41w5IZzZC9C_",
        "colab": {}
      },
      "source": [
        "#@title » Correr pruebas\n",
        "\n",
        "assert 4.0 == leibniz_pi(0)\n",
        "assert 2.666666666666667 == leibniz_pi(1)\n",
        "assert 3.466666666666667 == leibniz_pi(2)\n",
        "assert 3.232315809405594 == leibniz_pi(10)\n",
        "assert 3.1514934010709914 == leibniz_pi(100)\n",
        "assert 3.1425916543395442 == leibniz_pi(1000)\n",
        "assert 3.1416926435905346 == leibniz_pi(10000)\n",
        "assert 3.1416026534897203 == leibniz_pi(100000)\n",
        "assert 3.1415936535887745 == leibniz_pi(1000000)\n",
        "print('OK')"
      ],
      "execution_count": null,
      "outputs": []
    },
    {
      "cell_type": "markdown",
      "metadata": {
        "colab_type": "text",
        "id": "5w_4JfJiF8hL"
      },
      "source": [
        "---\n",
        "\n",
        "## Problema 6\n",
        "\n",
        "Escribe la función `codifica` que recibe una cadena de caracteres `frase` como entrada. Devuelve una lista que contiene el punto de código de Unicode de cada carácter contenido en `frase`.\n",
        "\n",
        "**NOTA**: Utiliza la función [`ord`](http://rip3.arielortiz.info/#ord) para obtener el punto de código de un carácter individual. \n",
        "\n",
        "Ejemplo:\n",
        "\n",
        "    >>> codifica('¡Hola, mundo!')\n",
        "    [161, 72, 111, 108, 97, 44, 32, 109, 117, 110, 100, 111, 33]"
      ]
    },
    {
      "cell_type": "code",
      "metadata": {
        "colab_type": "code",
        "id": "ID3bB07tF8hT",
        "colab": {}
      },
      "source": [
        "from typing import List\n",
        "\n",
        "def codifica(frase: str) -> List[int]:\n",
        "    # escribe aquí tu código\n",
        "    return []"
      ],
      "execution_count": null,
      "outputs": []
    },
    {
      "cell_type": "code",
      "metadata": {
        "colab_type": "code",
        "cellView": "form",
        "id": "G8e-krZ3F8hm",
        "colab": {}
      },
      "source": [
        "#@title » Correr pruebas\n",
        "\n",
        "assert [65, 66, 67] == codifica('ABC')\n",
        "assert [] == codifica('')\n",
        "assert [161, 72, 111, 108, 97, 44, 32, 109, 117, 110, 100, 111, 33] == codifica('¡Hola, mundo!')\n",
        "assert [69, 76, 32, 70, 73, 78] == codifica('EL FIN')\n",
        "print('OK')"
      ],
      "execution_count": null,
      "outputs": []
    },
    {
      "cell_type": "markdown",
      "metadata": {
        "colab_type": "text",
        "id": "SmvFBI01QiKC"
      },
      "source": [
        "---\n",
        "\n",
        "## Problema 7\n",
        "\n",
        "Escribe la función `duplica` que recibe una cadena de caracteres `frase` como entrada. Devuelve una nueva cadena en la que cada carácter de `frase` aparece repetido.\n",
        "\n",
        "Ejemplo:\n",
        "\n",
        "    >>> duplica('Hola')\n",
        "    'HHoollaa'"
      ]
    },
    {
      "cell_type": "code",
      "metadata": {
        "colab_type": "code",
        "id": "yjHxZsK6QiKH",
        "colab": {}
      },
      "source": [
        "def duplica(frase: str) -> str:\n",
        "    # escribe aquí tu código\n",
        "    return ''"
      ],
      "execution_count": null,
      "outputs": []
    },
    {
      "cell_type": "code",
      "metadata": {
        "colab_type": "code",
        "cellView": "form",
        "id": "a4SdJm_aQiKS",
        "colab": {}
      },
      "source": [
        "#@title » Correr pruebas\n",
        "\n",
        "assert 'HHoollaa' == duplica('Hola')\n",
        "assert '' == duplica('')\n",
        "assert '¡¡MMee  gguussttaa  pprrooggrraammaarr!!' == duplica('¡Me gusta programar!')\n",
        "assert 'EESSTTOO  SSEE  AACCAABBÓÓ' == duplica('ESTO SE ACABÓ')\n",
        "print('OK')"
      ],
      "execution_count": null,
      "outputs": []
    },
    {
      "cell_type": "markdown",
      "metadata": {
        "colab_type": "text",
        "id": "Sk0kZCd1LL-K"
      },
      "source": [
        "---\n",
        "\n",
        "## Problema 8\n",
        "\n",
        "El [ADN](https://es.wikipedia.org/wiki/%C3%81cido_desoxirribonucleico) (ácido desoxirribonucleico) es una doble hélice de dos hebras de nucleótidos. Cada base de nucleótidos puede representarse con una sola letra, por lo que una hebra de nucleótidos puede considerarse como una cadena de caracteres. Aunque el ADN tiene dos hebras, las dos están estrechamente relacionadas: dada una, es fácil calcular la otra. Por lo tanto, el ADN generalmente se describe mediante una cadena de caracteres que representan las bases de nucleótidos de una de sus hebras.\n",
        "\n",
        "Las cuatro bases que forman el ADN son:\n",
        "\n",
        "* (A) Adenina\n",
        "* (C) Citosina\n",
        "* (G) Guanina\n",
        "* (T) Timina\n",
        "\n",
        "La segunda hebra de ADN es siempre el _complemento inverso_ de la primera. El complemento de una hebra de ADN intercambia cada base por su base complementaria:\n",
        "\n",
        "* A ⟷ T\n",
        "* C ⟷ G\n",
        "\n",
        "El complemento inverso simplemente invierte el orden del complemento. Por ejemplo, el complemento de GATTACA es CTAATGT, y su complemento inverso es TGTAATC.\n",
        "\n",
        "Escribe la función `complemento_inverso_adn` que recibe como entrada una cadena de caracteres `hebra` formado exclusivamente por los caracteres (en mayúsculas o minúsculas): `A`, `C`, `G` y `T`. Devuelve una cadena de caracteres con el complemento inverso de `hebra`, todo en mayúsculas.\n",
        "\n",
        "Ejemplo:\n",
        "\n",
        "    >>> complemento_inverso_adn('GATTACA')\n",
        "    'TGTAATC'"
      ]
    },
    {
      "cell_type": "code",
      "metadata": {
        "colab_type": "code",
        "id": "wyRSEhIPLL-c",
        "colab": {}
      },
      "source": [
        "def complemento_inverso_adn(frase: str) -> str:\n",
        "    # escribe aquí tu código\n",
        "    return ''"
      ],
      "execution_count": null,
      "outputs": []
    },
    {
      "cell_type": "code",
      "metadata": {
        "colab_type": "code",
        "cellView": "form",
        "id": "F1P2OxxoLL-z",
        "colab": {}
      },
      "source": [
        "#@title » Correr pruebas\n",
        "\n",
        "assert 'TGTAATC' == complemento_inverso_adn('GATTACA')\n",
        "assert 'ACTCAACAGA' == complemento_inverso_adn('tctgttgagt')\n",
        "assert 'GCGGCTGGAGACCTAAGGAA' == complemento_inverso_adn('TtCcTtaGGtcTCCAgccGc')\n",
        "assert '' == complemento_inverso_adn('')\n",
        "print('OK')"
      ],
      "execution_count": null,
      "outputs": []
    }
  ]
}