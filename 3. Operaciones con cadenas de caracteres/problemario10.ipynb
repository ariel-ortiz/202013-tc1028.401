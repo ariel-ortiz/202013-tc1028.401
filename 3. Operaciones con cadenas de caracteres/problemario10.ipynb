{
  "nbformat": 4,
  "nbformat_minor": 0,
  "metadata": {
    "colab": {
      "name": "problemario10.ipynb",
      "provenance": [],
      "collapsed_sections": [],
      "include_colab_link": true
    },
    "kernelspec": {
      "name": "python3",
      "display_name": "Python 3"
    }
  },
  "cells": [
    {
      "cell_type": "markdown",
      "metadata": {
        "id": "view-in-github",
        "colab_type": "text"
      },
      "source": [
        "<a href=\"https://colab.research.google.com/github/ariel-ortiz/202013-tc1028.401/blob/master/3.%20Operaciones%20con%20cadenas%20de%20caracteres/problemario10.ipynb\" target=\"_parent\"><img src=\"https://colab.research.google.com/assets/colab-badge.svg\" alt=\"Open In Colab\"/></a>"
      ]
    },
    {
      "cell_type": "markdown",
      "metadata": {
        "id": "meqri0zQMo4u",
        "colab_type": "text"
      },
      "source": [
        "# Problemario 10: Más operaciones con cadenas de caracteres\n",
        "\n",
        "## Tc1028.401 Pensamiento computacional para ingeniería\n",
        "\n",
        "22 de septiembre, 2020."
      ]
    },
    {
      "cell_type": "markdown",
      "metadata": {
        "colab_type": "text",
        "id": "VB_t5Ox2bE1E"
      },
      "source": [
        "---\n",
        "\n",
        "## Problema 1\n",
        "\n",
        "Un palíndromo es una palabra o secuencia que se lee igual al derecho que al revés. Por ejemplo: ana, reconocer o solos.\n",
        "\n",
        "Escribe una función llamada `palindromo` que recibe como entrada una cadena `frase`. Devuelve `True` si `frase` es un palíndromo, de lo contrario devuelve `False`.\n",
        "\n",
        "Ejemplos:\n",
        "\n",
        "    >>> palindromo('reconocer')\n",
        "    True\n",
        "\n",
        "    >> palindromo('anita')\n",
        "    False"
      ]
    },
    {
      "cell_type": "code",
      "metadata": {
        "colab_type": "code",
        "id": "_o2UMrXsbE1Z",
        "colab": {}
      },
      "source": [
        "def palindromo(frase: str) -> bool:\n",
        "    alreves = frase[::-1]\n",
        "    if frase == alreves:\n",
        "        return True\n",
        "    else:\n",
        "        return False"
      ],
      "execution_count": 2,
      "outputs": []
    },
    {
      "cell_type": "code",
      "metadata": {
        "colab_type": "code",
        "cellView": "form",
        "id": "NHA5hHNebE1y",
        "colab": {
          "base_uri": "https://localhost:8080/",
          "height": 34
        },
        "outputId": "661c5183-d01a-44e0-fd7a-9249d69fd763"
      },
      "source": [
        "#@title » Correr pruebas\n",
        "\n",
        "assert True == palindromo('reconocer')\n",
        "assert False == palindromo('anita')\n",
        "assert True == palindromo('solos somos solos')\n",
        "assert True == palindromo('malayalam')\n",
        "assert False == palindromo('no es un palindromo')\n",
        "assert True == palindromo('')\n",
        "print('OK')"
      ],
      "execution_count": 8,
      "outputs": [
        {
          "output_type": "stream",
          "text": [
            "OK\n"
          ],
          "name": "stdout"
        }
      ]
    },
    {
      "cell_type": "markdown",
      "metadata": {
        "colab_type": "text",
        "id": "pU-SIvqowDNO"
      },
      "source": [
        "---\n",
        "\n",
        "## Problema 2\n",
        "\n",
        "Procusto fue un ladrón legendario de la antigua Ática. Tenía fama de atar a sus víctimas a una cama. Dado que no le gustaba desperdiciar espacio, Procusto consideraba siempre dos opciones para hacer que sus víctimas encajaran perfectamente en la cama:\n",
        "\n",
        "1. Para personas de estatura corta, usaba un potro para estirarle sus extremidades.\n",
        "\n",
        "2. Para personas de estatura alta, les cortaba las piernas con un hacha.\n",
        "\n",
        "Escribe una función llamada `cadena_procusteana` que recibe tres entradas: una cadena `frase`, un tamaño entero `t` y otra cadena `relleno`. Si `frase` tiene una longitud mayor que `t`, la función devuelve `frase` truncada a `t` caracteres. Por otro lado, si la longitud de `frase` es menor a `t`, la función devuelve `frase` concatenada al `relleno` repetido tantas veces como sea necesario para producir una cadena resultante con exactamente `t` caracteres. Por último, la función devuelve `frase` sin alteraciones en caso de que su longitud sea igual a `t`. \n",
        "\n",
        "Ejemplos:\n",
        "\n",
        "    >>> cadena_procusteana('hola', 3, 'BLA')\n",
        "    'hol'\n",
        "\n",
        "    >>> cadena_procusteana('hola', 15, 'BLA')\n",
        "    'holaBLABLABLABL'"
      ]
    },
    {
      "cell_type": "code",
      "metadata": {
        "colab_type": "code",
        "id": "gtLIk0i2wDNh",
        "colab": {}
      },
      "source": [
        "def cadena_procusteana(frase: str, t: int, relleno: str) -> str:\n",
        "    if len(frase) > t:\n",
        "        return frase[:t]\n",
        "    elif len(frase) == t:\n",
        "        return frase\n",
        "    else:\n",
        "        veces_relleno = (t - len(frase)) // len(relleno) + 1\n",
        "        resultado = frase + (relleno * veces_relleno)\n",
        "        return resultado[:t]"
      ],
      "execution_count": 15,
      "outputs": []
    },
    {
      "cell_type": "code",
      "metadata": {
        "colab_type": "code",
        "cellView": "form",
        "id": "pW1DEV-VwDN1",
        "colab": {
          "base_uri": "https://localhost:8080/",
          "height": 34
        },
        "outputId": "dc19e8b8-b809-4bb4-9620-cce4e1de0bb9"
      },
      "source": [
        "#@title » Correr pruebas\n",
        "\n",
        "assert 'holaBLABLABLABL' == cadena_procusteana('hola', 15, 'BLA')\n",
        "assert 'hol' == cadena_procusteana('hola', 3, 'BLA')\n",
        "assert 'hola' == cadena_procusteana('hola', 4, 'BLA')\n",
        "assert 'Hello*****' == cadena_procusteana('Hello', 10, '*')\n",
        "assert 'Hello worl' == cadena_procusteana('Hello world!', 10, '*')\n",
        "assert 'Hello' == cadena_procusteana('Hello', 5, '*')\n",
        "assert 'ABtesttesttesttestte' == cadena_procusteana('AB', 20, 'test')\n",
        "print('OK')"
      ],
      "execution_count": 20,
      "outputs": [
        {
          "output_type": "stream",
          "text": [
            "OK\n"
          ],
          "name": "stdout"
        }
      ]
    }
  ]
}