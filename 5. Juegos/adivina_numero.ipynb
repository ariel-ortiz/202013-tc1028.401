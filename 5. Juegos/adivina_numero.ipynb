{
  "nbformat": 4,
  "nbformat_minor": 0,
  "metadata": {
    "colab": {
      "name": "adivina_numero.ipynb",
      "provenance": [],
      "collapsed_sections": [],
      "authorship_tag": "ABX9TyOoR+gJLT/gJlyPUoJNldQB",
      "include_colab_link": true
    },
    "kernelspec": {
      "name": "python3",
      "display_name": "Python 3"
    }
  },
  "cells": [
    {
      "cell_type": "markdown",
      "metadata": {
        "id": "view-in-github",
        "colab_type": "text"
      },
      "source": [
        "<a href=\"https://colab.research.google.com/github/ariel-ortiz/202013-tc1028.401/blob/master/5.%20Juegos/adivina_numero.ipynb\" target=\"_parent\"><img src=\"https://colab.research.google.com/assets/colab-badge.svg\" alt=\"Open In Colab\"/></a>"
      ]
    },
    {
      "cell_type": "markdown",
      "metadata": {
        "id": "-oRzze031wB0"
      },
      "source": [
        "# Adivina número\n",
        "\n",
        "9 de octubre, 2020.\n",
        "\n",
        "Autor: Ariel Ortiz Ramírez\n",
        "\n",
        "Este es un programa que selecciona un número *secreto* aleatorio entre 1 y 100 y le permite al jugador adivinar qué número fue llevando un conteo del número de oportunidades. Le avisa al jugador si el número que ingresó es mayor o menor al número *secreto*. Cuando el jugador finalmente adivina el número correcto, el programa le indica cuantas oportunidades se llevó."
      ]
    },
    {
      "cell_type": "markdown",
      "metadata": {
        "id": "paTM0sbXC1Jo"
      },
      "source": [
        "---\n",
        "## `ingresa_numero`\n",
        "\n",
        "La función `ingresa_numero` valida que el usuario ingrese un número entero del 1 al 100. Si el usuario ingresa un número fuera de rango o un valor no numérico obliga a que el usuario lo vuelva a ingresar."
      ]
    },
    {
      "cell_type": "code",
      "metadata": {
        "id": "itHMAf_8XR_2"
      },
      "source": [
        "def ingresa_numero():\n",
        "    while True:\n",
        "        opcion = input('¿Cuál es tu opción? (1 al 100): ')\n",
        "        if opcion.isdigit():\n",
        "            numero = int(opcion)\n",
        "            if 1 <= numero <= 100:\n",
        "                return numero\n",
        "        print('Debes ingresar un número entero del 1 al 100.')\n",
        "        print('Vuelve a intentarlo.')"
      ],
      "execution_count": 1,
      "outputs": []
    },
    {
      "cell_type": "markdown",
      "metadata": {
        "id": "r3SsR3PnME99"
      },
      "source": [
        "---\n",
        "## `juego`\n",
        "\n",
        "La función `juego` controla de principio a fin la ejecución de un juego individual. Solicita al usuario su entrada, le brinda retroalimentación y lleva el conteo de cuantas oportunidades van."
      ]
    },
    {
      "cell_type": "code",
      "metadata": {
        "id": "Jb_qJF7X3JzK"
      },
      "source": [
        "from random import randrange\n",
        "\n",
        "def juego():\n",
        "    print()\n",
        "    print('Comienza el juego...')\n",
        "    secreto = randrange(1, 101)\n",
        "    opcion = 0\n",
        "    oportunidades = 0\n",
        "    while opcion != secreto:\n",
        "        opcion = ingresa_numero()\n",
        "        oportunidades += 1\n",
        "        if opcion == secreto:\n",
        "            print('¡Ganaste!')\n",
        "            print(f'Total de oportunidades: {oportunidades}')\n",
        "        elif secreto < opcion:\n",
        "            print(f'El número secreto es menor a {opcion}')\n",
        "        else:\n",
        "            print(f'El número secreto es mayor a {opcion}')\n",
        "    print('Fin de juego')"
      ],
      "execution_count": 2,
      "outputs": []
    },
    {
      "cell_type": "markdown",
      "metadata": {
        "id": "xCjCPiJGMZ7B"
      },
      "source": [
        "---\n",
        "## `titulo`\n",
        "\n",
        "La función `titulo` despliega el título y autor del programa."
      ]
    },
    {
      "cell_type": "code",
      "metadata": {
        "id": "XqjZgBBqvDcn"
      },
      "source": [
        "def titulo():\n",
        "    print('Juego de Adivina Número')\n",
        "    print('=======================')\n",
        "    print()\n",
        "    print('\\N{Copyright Sign} 2020 por Ariel Ortiz, Tec de Monterrey \\U0000263A')\n",
        "    print()"
      ],
      "execution_count": 3,
      "outputs": []
    },
    {
      "cell_type": "markdown",
      "metadata": {
        "id": "FTWzxjK3MoWX"
      },
      "source": [
        "\n",
        "---\n",
        "## `instrucciones`\n",
        "\n",
        "La función `instrucciones` le pregunta al usuario si desea ver las instrucciones del juego. En caso afirmativo las despliega."
      ]
    },
    {
      "cell_type": "code",
      "metadata": {
        "id": "dzKJ4LvBvDKV"
      },
      "source": [
        "def instrucciones():\n",
        "    opcion = input('¿Deseas ver las instrucciones? (s/n): ').upper()\n",
        "    if opcion == 'S':\n",
        "        print()\n",
        "        print('INSTRUCCIONES')\n",
        "        print()\n",
        "        print('Voy a pensar en un número del 1 al 100 y tú debes tratar de ')\n",
        "        print('adivinarlo en la menor cantidad de oportunidades.')\n",
        "        print()"
      ],
      "execution_count": 4,
      "outputs": []
    },
    {
      "cell_type": "markdown",
      "metadata": {
        "id": "WNuOkq1vM_Yv"
      },
      "source": [
        "---\n",
        "## `main`\n",
        "\n",
        "La función `main` controla la ejecución de todo el programa. Al final de cada juego le brinda al usuario la opción de volver a jugar."
      ]
    },
    {
      "cell_type": "code",
      "metadata": {
        "id": "X98z5BO3k-d-"
      },
      "source": [
        "def main():\n",
        "    titulo()\n",
        "    instrucciones()\n",
        "    opcion = 'S'\n",
        "    while opcion == 'S':\n",
        "        juego()\n",
        "        print()\n",
        "        opcion = input('¿Deseas jugar otra vez? (s/n): ').upper()\n",
        "    print('Gracias por jugar. Bye!')"
      ],
      "execution_count": 5,
      "outputs": []
    },
    {
      "cell_type": "markdown",
      "metadata": {
        "id": "hzU8sqDqN0aR"
      },
      "source": [
        "---\n",
        "Correr el programa"
      ]
    },
    {
      "cell_type": "code",
      "metadata": {
        "id": "BF5qyODt90gh",
        "outputId": "7c1d2e55-1b58-42ac-d9d6-122142f8c961",
        "colab": {
          "base_uri": "https://localhost:8080/",
          "height": 937
        }
      },
      "source": [
        "main()"
      ],
      "execution_count": 6,
      "outputs": [
        {
          "output_type": "stream",
          "text": [
            "Juego de Adivina Número\n",
            "=======================\n",
            "\n",
            "© 2020 por Ariel Ortiz, Tec de Monterrey ☺\n",
            "\n",
            "¿Deseas ver las instrucciones? (s/n): s\n",
            "\n",
            "INSTRUCCIONES\n",
            "\n",
            "Voy a pensar en un número del 1 al 100 y tú debes tratar de \n",
            "adivinarlo en la menor cantidad de oportunidades.\n",
            "\n",
            "\n",
            "Comienza el juego...\n",
            "¿Cuál es tu opción? (1 al 100): 50\n",
            "El número secreto es mayor a 50\n",
            "¿Cuál es tu opción? (1 al 100): 75\n",
            "El número secreto es mayor a 75\n",
            "¿Cuál es tu opción? (1 al 100): 87\n",
            "El número secreto es mayor a 87\n",
            "¿Cuál es tu opción? (1 al 100): 93\n",
            "El número secreto es mayor a 93\n",
            "¿Cuál es tu opción? (1 al 100): 96\n",
            "El número secreto es menor a 96\n",
            "¿Cuál es tu opción? (1 al 100): 94\n",
            "El número secreto es mayor a 94\n",
            "¿Cuál es tu opción? (1 al 100): 95\n",
            "¡Ganaste!\n",
            "Total de oportunidades: 7\n",
            "Fin de juego\n",
            "\n",
            "¿Deseas jugar otra vez? (s/n): s\n",
            "\n",
            "Comienza el juego...\n",
            "¿Cuál es tu opción? (1 al 100): 50\n",
            "El número secreto es menor a 50\n",
            "¿Cuál es tu opción? (1 al 100): 25\n",
            "El número secreto es menor a 25\n",
            "¿Cuál es tu opción? (1 al 100): 12\n",
            "El número secreto es menor a 12\n",
            "¿Cuál es tu opción? (1 al 100): 6\n",
            "El número secreto es menor a 6\n",
            "¿Cuál es tu opción? (1 al 100): 3\n",
            "El número secreto es menor a 3\n",
            "¿Cuál es tu opción? (1 al 100): 2\n",
            "El número secreto es menor a 2\n",
            "¿Cuál es tu opción? (1 al 100): 1\n",
            "¡Ganaste!\n",
            "Total de oportunidades: 7\n",
            "Fin de juego\n",
            "\n",
            "¿Deseas jugar otra vez? (s/n): n\n",
            "Gracias por jugar. Bye!\n"
          ],
          "name": "stdout"
        }
      ]
    }
  ]
}