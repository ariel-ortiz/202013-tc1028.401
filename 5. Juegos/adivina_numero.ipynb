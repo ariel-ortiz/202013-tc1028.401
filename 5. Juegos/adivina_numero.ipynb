{
  "nbformat": 4,
  "nbformat_minor": 0,
  "metadata": {
    "colab": {
      "name": "adivina_numero.ipynb",
      "provenance": [],
      "collapsed_sections": [],
      "authorship_tag": "ABX9TyNdcu9Q9aszO123JR03n5sQ",
      "include_colab_link": true
    },
    "kernelspec": {
      "name": "python3",
      "display_name": "Python 3"
    }
  },
  "cells": [
    {
      "cell_type": "markdown",
      "metadata": {
        "id": "view-in-github",
        "colab_type": "text"
      },
      "source": [
        "<a href=\"https://colab.research.google.com/github/ariel-ortiz/202013-tc1028.401/blob/master/5.%20Juegos/adivina_numero.ipynb\" target=\"_parent\"><img src=\"https://colab.research.google.com/assets/colab-badge.svg\" alt=\"Open In Colab\"/></a>"
      ]
    },
    {
      "cell_type": "markdown",
      "metadata": {
        "id": "-oRzze031wB0"
      },
      "source": [
        "# Adivina número\n",
        "\n",
        "Este es un programa que selecciona un número *secreto* aleatorio entre 1 y 100 y le permite al jugador adivinar qué número fue llevando un conteo del número de oportunidades. Le avisa al jugador si el número que ingresó es mayor o menor al número *secreto*. Cuando el jugador finalmente adivina el número correcto, el programa le indica cuantas oportunidades se llevó."
      ]
    },
    {
      "cell_type": "code",
      "metadata": {
        "id": "itHMAf_8XR_2"
      },
      "source": [
        "def ingresa_numero():\n",
        "    while True:\n",
        "        opcion = input('¿Cuál es tu opción? (1 al 100): ')\n",
        "        if opcion.isdigit():\n",
        "            numero = int(opcion)\n",
        "            if 1 <= numero <= 100:\n",
        "                return numero\n",
        "        print('Debes ingresar un número entero del 1 al 100.')\n",
        "        print('Vuelve a intentarlo.')"
      ],
      "execution_count": null,
      "outputs": []
    },
    {
      "cell_type": "code",
      "metadata": {
        "id": "Jb_qJF7X3JzK"
      },
      "source": [
        "from random import randrange\n",
        "\n",
        "def juego():\n",
        "    print('Voy a pensar en un número del 1 al 100 y tú debes tratar de ')\n",
        "    print('adivinarlo en la menor cantidad de oportunidades.')\n",
        "    secreto = randrange(1, 101)\n",
        "    opcion = 0\n",
        "    oportunidades = 0\n",
        "    while opcion != secreto:\n",
        "        opcion = ingresa_numero()\n",
        "        oportunidades += 1\n",
        "        if opcion == secreto:\n",
        "            print('¡Ganaste!')\n",
        "            print(f'Total de oportunidades: {oportunidades}')\n",
        "        elif secreto < opcion:\n",
        "            print(f'El número secreto es menor a {opcion}')\n",
        "        else:\n",
        "            print(f'El número secreto es mayor a {opcion}')\n",
        "    print('Fin de juego')"
      ],
      "execution_count": null,
      "outputs": []
    },
    {
      "cell_type": "code",
      "metadata": {
        "id": "X98z5BO3k-d-"
      },
      "source": [
        "def main():\n",
        "    opcion = 'S'\n",
        "    while opcion == 'S':\n",
        "        juego()\n",
        "        print()\n",
        "        opcion = input('¿Deseas jugar otra vez? (s/n): ').upper()\n",
        "    print('Gracias por jugar. Bye!')"
      ],
      "execution_count": null,
      "outputs": []
    },
    {
      "cell_type": "code",
      "metadata": {
        "id": "BF5qyODt90gh"
      },
      "source": [
        "main()"
      ],
      "execution_count": null,
      "outputs": []
    }
  ]
}